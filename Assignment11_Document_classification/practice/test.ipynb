{
 "cells": [
  {
   "cell_type": "code",
   "execution_count": 2,
   "metadata": {
    "collapsed": true
   },
   "outputs": [],
   "source": [
    "import nltk"
   ]
  },
  {
   "cell_type": "code",
   "execution_count": 6,
   "metadata": {
    "collapsed": true
   },
   "outputs": [],
   "source": [
    "def ie_preprocess(document):\n",
    "    sentences = nltk.sent_tokenize(document)\n",
    "    sentences = [nltk.word_tokenize(sent) for sent in sentences]\n",
    "    sentences = [nltk.pos_tag(sent) for sent in sentences]\n",
    "    print(sentences)"
   ]
  },
  {
   "cell_type": "code",
   "execution_count": 7,
   "metadata": {},
   "outputs": [
    {
     "name": "stdout",
     "output_type": "stream",
     "text": [
      "[[('he', 'PRP'), ('fourth', 'JJ'), ('Wells', 'NNP'), ('account', 'NN'), ('moving', 'VBG'), ('to', 'TO'), ('another', 'DT'), ('agency', 'NN'), ('is', 'VBZ'), ('the', 'DT'), ('packaged', 'VBN'), ('paperproducts', 'NNS'), ('division', 'NN'), ('of', 'IN'), ('Georgia-Pacific', 'NNP'), ('Corp.', 'NNP'), (',', ','), ('which', 'WDT'), ('arrived', 'VBD'), ('at', 'IN'), ('Wells', 'NNP'), ('only', 'RB'), ('last', 'JJ'), ('fall', 'NN'), ('.', '.')], [('Like', 'IN'), ('Hertz', 'NNP'), ('and', 'CC'), ('the', 'DT'), ('History', 'NNP'), ('Channel', 'NNP'), (',', ','), ('it', 'PRP'), ('is', 'VBZ'), ('also', 'RB'), ('leaving', 'VBG'), ('for', 'IN'), ('an', 'DT'), ('Omnicom-owned', 'JJ'), ('agency', 'NN'), (',', ','), ('the', 'DT'), ('BBDO', 'NNP'), ('South', 'NNP'), ('unit', 'NN'), ('of', 'IN'), ('BBDO', 'NNP'), ('Worldwide', 'NNP'), ('.', '.')], [('BBDO', 'NNP'), ('South', 'NNP'), ('in', 'IN'), ('Atlanta', 'NNP'), (',', ','), ('which', 'WDT'), ('handles', 'VBZ'), ('corporate', 'JJ'), ('advertising', 'NN'), ('for', 'IN'), ('Georgia-Pacific', 'NNP'), (',', ','), ('will', 'MD'), ('assume', 'VB'), ('additional', 'JJ'), ('duties', 'NNS'), ('for', 'IN'), ('brands', 'NNS'), ('like', 'IN'), ('Angel', 'NNP'), ('Soft', 'NNP'), ('toilet', 'NN'), ('tissue', 'NN'), ('and', 'CC'), ('Sparkle', 'NNP'), ('paper', 'NN'), ('towels', 'NNS'), (',', ','), ('said', 'VBD'), ('Ken', 'NNP'), ('Haldin', 'NNP'), (',', ','), ('a', 'DT'), ('spokesman', 'NN'), ('for', 'IN'), ('Georgia-Pacific', 'NNP'), ('in', 'IN'), ('Atlanta', 'NNP'), ('.', '.')]]\n"
     ]
    }
   ],
   "source": [
    "ie_preprocess(\"\"\"he fourth Wells account moving to another agency is the packaged paperproducts\n",
    "division of Georgia-Pacific Corp., which arrived at Wells only last fall.\n",
    "Like Hertz and the History Channel, it is also leaving for an Omnicom-owned\n",
    "agency, the BBDO South unit of BBDO Worldwide. BBDO South in Atlanta,\n",
    "which handles corporate advertising for Georgia-Pacific, will assume additional\n",
    "duties for brands like Angel Soft toilet tissue and Sparkle paper towels, said\n",
    "Ken Haldin, a spokesman for Georgia-Pacific in Atlanta.\"\"\")"
   ]
  },
  {
   "cell_type": "code",
   "execution_count": 9,
   "metadata": {
    "collapsed": true
   },
   "outputs": [],
   "source": [
    ">>> sentence = [(\"the\", \"DT\"), (\"little\", \"JJ\"), (\"yellow\", \"JJ\"), (\"dog\", \"NN\"), (\"barked\", \"VBD\"), (\"at\", \"IN\"), (\"the\", \"DT\"), (\"cat\", \"NN\")]"
   ]
  },
  {
   "cell_type": "code",
   "execution_count": 11,
   "metadata": {
    "collapsed": true
   },
   "outputs": [],
   "source": [
    "grammar = \"NP: {<DT>?<JJ>*<NN>}\""
   ]
  },
  {
   "cell_type": "code",
   "execution_count": 13,
   "metadata": {},
   "outputs": [
    {
     "name": "stdout",
     "output_type": "stream",
     "text": [
      "(S\n",
      "  (NP the/DT little/JJ yellow/JJ dog/NN)\n",
      "  barked/VBD\n",
      "  at/IN\n",
      "  (NP the/DT cat/NN))\n"
     ]
    }
   ],
   "source": [
    "cp = nltk.RegexpParser(grammar)\n",
    "result =cp.parse(sentence)\n",
    "print(result)\n",
    "result.draw()"
   ]
  },
  {
   "cell_type": "code",
   "execution_count": 14,
   "metadata": {},
   "outputs": [
    {
     "ename": "IndentationError",
     "evalue": "expected an indented block (<ipython-input-14-4ff72c7c6ef1>, line 4)",
     "output_type": "error",
     "traceback": [
      "\u001b[1;36m  File \u001b[1;32m\"<ipython-input-14-4ff72c7c6ef1>\"\u001b[1;36m, line \u001b[1;32m4\u001b[0m\n\u001b[1;33m    tree = cp.parse(sent)\u001b[0m\n\u001b[1;37m       ^\u001b[0m\n\u001b[1;31mIndentationError\u001b[0m\u001b[1;31m:\u001b[0m expected an indented block\n"
     ]
    }
   ],
   "source": [
    ">>> cp = nltk.RegexpParser('CHUNK: {<V.*> <TO> <V.*>}')\n",
    ">>> brown = nltk.corpus.brown\n",
    ">>> for sent in brown.tagged_sents():\n",
    "... tree = cp.parse(sent)\n",
    "... for subtree in tree.subtrees():\n",
    "... if subtree.node == 'CHUNK': print subtree"
   ]
  },
  {
   "cell_type": "code",
   "execution_count": 3,
   "metadata": {},
   "outputs": [],
   "source": [
    ">>> tree1 = nltk.Tree('NP', ['Alice'])\n",
    "tree2 = nltk.Tree('NP', ['the', 'rabbit'])"
   ]
  },
  {
   "cell_type": "code",
   "execution_count": 4,
   "metadata": {},
   "outputs": [
    {
     "name": "stdout",
     "output_type": "stream",
     "text": [
      "(NP the rabbit)\n"
     ]
    }
   ],
   "source": [
    "print(tree2)"
   ]
  },
  {
   "cell_type": "code",
   "execution_count": 5,
   "metadata": {
    "collapsed": true
   },
   "outputs": [],
   "source": [
    "sent = nltk.corpus.treebank.tagged_sents()[22]"
   ]
  },
  {
   "cell_type": "code",
   "execution_count": 8,
   "metadata": {
    "scrolled": true
   },
   "outputs": [
    {
     "name": "stdout",
     "output_type": "stream",
     "text": [
      "(S\n",
      "  The/DT\n",
      "  (GPE U.S./NNP)\n",
      "  is/VBZ\n",
      "  one/CD\n",
      "  of/IN\n",
      "  the/DT\n",
      "  few/JJ\n",
      "  industrialized/VBN\n",
      "  nations/NNS\n",
      "  that/WDT\n",
      "  *T*-7/-NONE-\n",
      "  does/VBZ\n",
      "  n't/RB\n",
      "  have/VB\n",
      "  a/DT\n",
      "  higher/JJR\n",
      "  standard/NN\n",
      "  of/IN\n",
      "  regulation/NN\n",
      "  for/IN\n",
      "  the/DT\n",
      "  smooth/JJ\n",
      "  ,/,\n",
      "  needle-like/JJ\n",
      "  fibers/NNS\n",
      "  such/JJ\n",
      "  as/IN\n",
      "  crocidolite/NN\n",
      "  that/WDT\n",
      "  *T*-1/-NONE-\n",
      "  are/VBP\n",
      "  classified/VBN\n",
      "  *-5/-NONE-\n",
      "  as/IN\n",
      "  amphobiles/NNS\n",
      "  ,/,\n",
      "  according/VBG\n",
      "  to/TO\n",
      "  (PERSON Brooke/NNP T./NNP Mossman/NNP)\n",
      "  ,/,\n",
      "  a/DT\n",
      "  professor/NN\n",
      "  of/IN\n",
      "  pathlogy/NN\n",
      "  at/IN\n",
      "  the/DT\n",
      "  (ORGANIZATION University/NNP)\n",
      "  of/IN\n",
      "  (PERSON Vermont/NNP College/NNP)\n",
      "  of/IN\n",
      "  (GPE Medicine/NNP)\n",
      "  ./.)\n"
     ]
    }
   ],
   "source": [
    "print(nltk.ne_chunk(sent))"
   ]
  },
  {
   "cell_type": "code",
   "execution_count": 13,
   "metadata": {},
   "outputs": [],
   "source": [
    "import re\n",
    "IN = re.compile(r'.*\\bin\\b(?!\\b.+ing)')"
   ]
  },
  {
   "cell_type": "code",
   "execution_count": 14,
   "metadata": {},
   "outputs": [
    {
     "ename": "AttributeError",
     "evalue": "module 'nltk.sem' has no attribute 'show_raw_rtuple'",
     "output_type": "error",
     "traceback": [
      "\u001b[1;31m---------------------------------------------------------------------------\u001b[0m",
      "\u001b[1;31mAttributeError\u001b[0m                            Traceback (most recent call last)",
      "\u001b[1;32m<ipython-input-14-80d2c37092ab>\u001b[0m in \u001b[0;36m<module>\u001b[1;34m()\u001b[0m\n\u001b[0;32m      1\u001b[0m \u001b[1;32mfor\u001b[0m \u001b[0mdoc\u001b[0m \u001b[1;32min\u001b[0m \u001b[0mnltk\u001b[0m\u001b[1;33m.\u001b[0m\u001b[0mcorpus\u001b[0m\u001b[1;33m.\u001b[0m\u001b[0mieer\u001b[0m\u001b[1;33m.\u001b[0m\u001b[0mparsed_docs\u001b[0m\u001b[1;33m(\u001b[0m\u001b[1;34m'NYT_19980315'\u001b[0m\u001b[1;33m)\u001b[0m\u001b[1;33m:\u001b[0m\u001b[1;33m\u001b[0m\u001b[0m\n\u001b[0;32m      2\u001b[0m     \u001b[1;32mfor\u001b[0m \u001b[0mrel\u001b[0m \u001b[1;32min\u001b[0m \u001b[0mnltk\u001b[0m\u001b[1;33m.\u001b[0m\u001b[0msem\u001b[0m\u001b[1;33m.\u001b[0m\u001b[0mextract_rels\u001b[0m\u001b[1;33m(\u001b[0m\u001b[1;34m'ORG'\u001b[0m\u001b[1;33m,\u001b[0m \u001b[1;34m'LOC'\u001b[0m\u001b[1;33m,\u001b[0m \u001b[0mdoc\u001b[0m\u001b[1;33m,\u001b[0m\u001b[0mcorpus\u001b[0m\u001b[1;33m=\u001b[0m\u001b[1;34m'ieer'\u001b[0m\u001b[1;33m,\u001b[0m \u001b[0mpattern\u001b[0m \u001b[1;33m=\u001b[0m \u001b[0mIN\u001b[0m\u001b[1;33m)\u001b[0m\u001b[1;33m:\u001b[0m\u001b[1;33m\u001b[0m\u001b[0m\n\u001b[1;32m----> 3\u001b[1;33m         \u001b[0mprint\u001b[0m\u001b[1;33m(\u001b[0m \u001b[0mnltk\u001b[0m\u001b[1;33m.\u001b[0m\u001b[0msem\u001b[0m\u001b[1;33m.\u001b[0m\u001b[0mshow_raw_rtuple\u001b[0m\u001b[1;33m(\u001b[0m\u001b[0mrel\u001b[0m\u001b[1;33m)\u001b[0m\u001b[1;33m)\u001b[0m\u001b[1;33m\u001b[0m\u001b[0m\n\u001b[0m",
      "\u001b[1;31mAttributeError\u001b[0m: module 'nltk.sem' has no attribute 'show_raw_rtuple'"
     ]
    }
   ],
   "source": [
    "for doc in nltk.corpus.ieer.parsed_docs('NYT_19980315'):\n",
    "    for rel in nltk.sem.extract_rels('ORG', 'LOC', doc,corpus='ieer', pattern = IN):\n",
    "        print( nltk.sem.show_raw_rtuple(rel))"
   ]
  },
  {
   "cell_type": "code",
   "execution_count": null,
   "metadata": {
    "collapsed": true
   },
   "outputs": [],
   "source": []
  },
  {
   "cell_type": "code",
   "execution_count": null,
   "metadata": {
    "collapsed": true
   },
   "outputs": [],
   "source": []
  }
 ],
 "metadata": {
  "kernelspec": {
   "display_name": "Python 3",
   "language": "python",
   "name": "python3"
  },
  "language_info": {
   "codemirror_mode": {
    "name": "ipython",
    "version": 3
   },
   "file_extension": ".py",
   "mimetype": "text/x-python",
   "name": "python",
   "nbconvert_exporter": "python",
   "pygments_lexer": "ipython3",
   "version": "3.6.1"
  }
 },
 "nbformat": 4,
 "nbformat_minor": 2
}
